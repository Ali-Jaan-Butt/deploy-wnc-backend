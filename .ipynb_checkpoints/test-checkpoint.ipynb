{
 "cells": [
  {
   "cell_type": "code",
   "execution_count": 4,
   "id": "074f51a3-a015-4090-8416-1864e51faebb",
   "metadata": {
    "scrolled": true
   },
   "outputs": [],
   "source": [
    "import requests\n",
    "import json"
   ]
  },
  {
   "cell_type": "code",
   "execution_count": 31,
   "id": "6ef3464b-3c3f-4177-a1ab-cf34e13a6f33",
   "metadata": {},
   "outputs": [],
   "source": [
    "res = requests.get('http://127.0.0.1:8000/sign-in-email/data/')"
   ]
  },
  {
   "cell_type": "code",
   "execution_count": 32,
   "id": "3a764b77-50ce-47fc-a8a1-03c492fbdfc6",
   "metadata": {},
   "outputs": [],
   "source": [
    "data_email = res.json()"
   ]
  },
  {
   "cell_type": "code",
   "execution_count": 38,
   "id": "91908d59-8559-45ff-84c5-275661187fb0",
   "metadata": {},
   "outputs": [
    {
     "data": {
      "text/plain": [
       "'info@wncinnovators.com'"
      ]
     },
     "execution_count": 38,
     "metadata": {},
     "output_type": "execute_result"
    }
   ],
   "source": [
    "data_email['data'][-1]['email']"
   ]
  },
  {
   "cell_type": "code",
   "execution_count": 42,
   "id": "38cc24da-8b31-4727-b56c-3b2dbab18764",
   "metadata": {},
   "outputs": [
    {
     "name": "stdout",
     "output_type": "stream",
     "text": [
      "Valid CNIC\n"
     ]
    }
   ],
   "source": [
    "import re\n",
    "\n",
    "def is_valid_cnic(cnic):\n",
    "    cnic_pattern = re.compile(r'^\\d{5}-\\d{7}-\\d{1}$')\n",
    "    if cnic_pattern.match(cnic):\n",
    "        return True\n",
    "    else:\n",
    "        return False\n",
    "\n",
    "cnic_input = \"34101-6199709-9\"\n",
    "if is_valid_cnic(cnic_input):\n",
    "    print(\"Valid CNIC\")\n",
    "else:\n",
    "    print(\"Invalid CNIC\")"
   ]
  },
  {
   "cell_type": "code",
   "execution_count": 20,
   "id": "04320e22-208c-4503-841f-07b9dbe62d0e",
   "metadata": {},
   "outputs": [],
   "source": [
    "data_email = res.text"
   ]
  },
  {
   "cell_type": "code",
   "execution_count": 26,
   "id": "d3c2fe28-520d-4fef-9174-3c6af2553160",
   "metadata": {},
   "outputs": [
    {
     "data": {
      "text/plain": [
       "'{\"status\": \"success\", \"data\": [{\"email\": \"info@wncinnovators.com\"}]}'"
      ]
     },
     "execution_count": 26,
     "metadata": {},
     "output_type": "execute_result"
    }
   ],
   "source": [
    "data_email"
   ]
  },
  {
   "cell_type": "code",
   "execution_count": 7,
   "id": "2d0dddc6-3764-46a9-b62b-3187bf0f8369",
   "metadata": {},
   "outputs": [],
   "source": [
    "res = requests.get('http://127.0.0.1:8000/profile/')"
   ]
  },
  {
   "cell_type": "code",
   "execution_count": 8,
   "id": "08ac3e2d-8e1f-4947-811a-20d2944a222c",
   "metadata": {},
   "outputs": [],
   "source": [
    "text = res.text"
   ]
  },
  {
   "cell_type": "code",
   "execution_count": 9,
   "id": "cbe666a6-a529-4a44-9be2-63c83f751315",
   "metadata": {},
   "outputs": [
    {
     "data": {
      "text/plain": [
       "'<!DOCTYPE html>\\n<html lang=\"en\">\\n<head>\\n  <meta http-equiv=\"content-type\" content=\"text/html; charset=utf-8\">\\n  <title>Page not found at /profile/</title>\\n  <meta name=\"robots\" content=\"NONE,NOARCHIVE\">\\n  <style type=\"text/css\">\\n    html * { padding:0; margin:0; }\\n    body * { padding:10px 20px; }\\n    body * * { padding:0; }\\n    body { font:small sans-serif; background:#eee; color:#000; }\\n    body>div { border-bottom:1px solid #ddd; }\\n    h1 { font-weight:normal; margin-bottom:.4em; }\\n    h1 span { font-size:60%; color:#666; font-weight:normal; }\\n    table { border:none; border-collapse: collapse; width:100%; }\\n    td, th { vertical-align:top; padding:2px 3px; }\\n    th { width:12em; text-align:right; color:#666; padding-right:.5em; }\\n    #info { background:#f6f6f6; }\\n    #info ol { margin: 0.5em 4em; }\\n    #info ol li { font-family: monospace; }\\n    #summary { background: #ffc; }\\n    #explanation { background:#eee; border-bottom: 0px none; }\\n    pre.exception_value { font-family: sans-serif; color: #575757; font-size: 1.5em; margin: 10px 0 10px 0; }\\n  </style>\\n</head>\\n<body>\\n  <div id=\"summary\">\\n    <h1>Page not found <span>(404)</span></h1>\\n    \\n    <table class=\"meta\">\\n      <tr>\\n        <th>Request Method:</th>\\n        <td>GET</td>\\n      </tr>\\n      <tr>\\n        <th>Request URL:</th>\\n        <td>http://127.0.0.1:8000/profile/</td>\\n      </tr>\\n      \\n    </table>\\n  </div>\\n  <div id=\"info\">\\n    \\n      <p>\\n      Using the URLconf defined in <code>backend.urls</code>,\\n      Django tried these URL patterns, in this order:\\n      </p>\\n      <ol>\\n        \\n          <li>\\n            \\n                admin/\\n                \\n            \\n          </li>\\n        \\n          <li>\\n            \\n                api/recieve-data/\\n                [name=\\'receive_data\\']\\n            \\n          </li>\\n        \\n          <li>\\n            \\n                api/get-signup-data/\\n                [name=\\'get-data\\']\\n            \\n          </li>\\n        \\n          <li>\\n            \\n                ver/email/\\n                [name=\\'verify-email\\']\\n            \\n          </li>\\n        \\n          <li>\\n            \\n                sup/profile-data/\\n                [name=\\'recieve_sup_data\\']\\n            \\n          </li>\\n        \\n      </ol>\\n      <p>\\n        \\n          The current path, <code>profile/</code>,\\n        \\n        didn’t match any of these.\\n      </p>\\n    \\n  </div>\\n\\n  <div id=\"explanation\">\\n    <p>\\n      You’re seeing this error because you have <code>DEBUG = True</code> in\\n      your Django settings file. Change that to <code>False</code>, and Django\\n      will display a standard 404 page.\\n    </p>\\n  </div>\\n</body>\\n</html>\\n'"
      ]
     },
     "execution_count": 9,
     "metadata": {},
     "output_type": "execute_result"
    }
   ],
   "source": [
    "text"
   ]
  },
  {
   "cell_type": "code",
   "execution_count": 8,
   "id": "32b19bb7-28ab-411b-9214-c8e2b34d9bc0",
   "metadata": {},
   "outputs": [],
   "source": [
    "text = res.json()"
   ]
  },
  {
   "cell_type": "code",
   "execution_count": 13,
   "id": "1a8a1c3d-09ff-4dd5-9f4b-f42c6c312163",
   "metadata": {},
   "outputs": [
    {
     "data": {
      "text/plain": [
       "'info@wncinnovators.com'"
      ]
     },
     "execution_count": 13,
     "metadata": {},
     "output_type": "execute_result"
    }
   ],
   "source": [
    "text['data'][0]['email']"
   ]
  }
 ],
 "metadata": {
  "kernelspec": {
   "display_name": "Python 3 (ipykernel)",
   "language": "python",
   "name": "python3"
  },
  "language_info": {
   "codemirror_mode": {
    "name": "ipython",
    "version": 3
   },
   "file_extension": ".py",
   "mimetype": "text/x-python",
   "name": "python",
   "nbconvert_exporter": "python",
   "pygments_lexer": "ipython3",
   "version": "3.11.3"
  }
 },
 "nbformat": 4,
 "nbformat_minor": 5
}
